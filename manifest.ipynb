{
 "cells": [
  {
   "cell_type": "code",
   "execution_count": 1,
   "metadata": {},
   "outputs": [],
   "source": [
    "import os\n",
    "import pandas as pd\n",
    "from tqdm import tqdm"
   ]
  },
  {
   "cell_type": "code",
   "execution_count": 2,
   "metadata": {},
   "outputs": [
    {
     "name": "stdout",
     "output_type": "stream",
     "text": [
      "Form-based Marking.xlsx  Images  Readme.txt\r\n"
     ]
    }
   ],
   "source": [
    "!ls 'BanglaLekha-Isolated'"
   ]
  },
  {
   "cell_type": "code",
   "execution_count": 3,
   "metadata": {},
   "outputs": [],
   "source": [
    "labels = os.listdir(os.path.abspath('BanglaLekha-Isolated/Images/'))\n",
    "train = []\n",
    "val = []"
   ]
  },
  {
   "cell_type": "code",
   "execution_count": 4,
   "metadata": {},
   "outputs": [
    {
     "name": "stderr",
     "output_type": "stream",
     "text": [
      "100%|██████████| 84/84 [00:01<00:00, 43.40it/s]\n"
     ]
    },
    {
     "data": {
      "text/plain": [
       "(157753, 8352)"
      ]
     },
     "execution_count": 4,
     "metadata": {},
     "output_type": "execute_result"
    }
   ],
   "source": [
    "for label in tqdm(labels):\n",
    "    images = [os.path.abspath(os.path.join(dirpath, f)) \n",
    "             for dirpath, dirnames, filenames in os.walk('BanglaLekha-Isolated/Images/' + label) \n",
    "             for f in filenames]\n",
    "    for i, img in enumerate(images):\n",
    "        if i % 20 == 0:\n",
    "            val.append([os.path.abspath(img), int(label)-1])\n",
    "        else:\n",
    "            train.append([os.path.abspath(img), int(label)-1])\n",
    "            \n",
    "len(train), len(val)"
   ]
  },
  {
   "cell_type": "code",
   "execution_count": 5,
   "metadata": {},
   "outputs": [],
   "source": [
    "train_df = pd.DataFrame(train)\n",
    "val_df = pd.DataFrame(val)\n",
    "\n",
    "train_df.to_csv('train_manifest.csv', header=None, index=None)\n",
    "val_df.to_csv('val_manifest.csv', header=None, index=None)"
   ]
  },
  {
   "cell_type": "code",
   "execution_count": 14,
   "metadata": {},
   "outputs": [
    {
     "data": {
      "text/plain": [
       "84"
      ]
     },
     "execution_count": 14,
     "metadata": {},
     "output_type": "execute_result"
    }
   ],
   "source": [
    "len(labels)"
   ]
  },
  {
   "cell_type": "code",
   "execution_count": 15,
   "metadata": {},
   "outputs": [
    {
     "data": {
      "text/plain": [
       "1\n",
       "0     1876\n",
       "1     1881\n",
       "2     1880\n",
       "3     1882\n",
       "4     1882\n",
       "5     1882\n",
       "6     1872\n",
       "7     1885\n",
       "8     1884\n",
       "9     1881\n",
       "10    1882\n",
       "11    1884\n",
       "12    1870\n",
       "13    1883\n",
       "14    1876\n",
       "15    1881\n",
       "16    1883\n",
       "17    1881\n",
       "18    1881\n",
       "19    1882\n",
       "20    1888\n",
       "21    1878\n",
       "22    1843\n",
       "23    1883\n",
       "24    1878\n",
       "25    1881\n",
       "26    1876\n",
       "27    1878\n",
       "28    1881\n",
       "29    1869\n",
       "      ... \n",
       "54    1881\n",
       "55    1886\n",
       "56    1881\n",
       "57    1860\n",
       "58    1884\n",
       "59    1868\n",
       "60    1881\n",
       "61    1881\n",
       "62    1855\n",
       "63    1885\n",
       "64    1879\n",
       "65    1879\n",
       "66    1883\n",
       "67    1882\n",
       "68    1885\n",
       "69    1884\n",
       "70    1867\n",
       "71    1869\n",
       "72    1885\n",
       "73    1884\n",
       "74    1866\n",
       "75    1882\n",
       "76    1843\n",
       "77    1881\n",
       "78    1878\n",
       "79    1881\n",
       "80    1876\n",
       "81    1879\n",
       "82    1872\n",
       "83    1867\n",
       "Length: 84, dtype: int64"
      ]
     },
     "execution_count": 15,
     "metadata": {},
     "output_type": "execute_result"
    }
   ],
   "source": [
    "train_df.groupby([1]).size()"
   ]
  },
  {
   "cell_type": "code",
   "execution_count": 58,
   "metadata": {},
   "outputs": [
    {
     "data": {
      "text/plain": [
       "'01_0001_0_16_0916_0594_49.png'"
      ]
     },
     "execution_count": 58,
     "metadata": {},
     "output_type": "execute_result"
    }
   ],
   "source": [
    "os.path.basename(val_df[0][0])"
   ]
  }
 ],
 "metadata": {
  "kernelspec": {
   "display_name": "aiEnv",
   "language": "python",
   "name": "aienv"
  },
  "language_info": {
   "codemirror_mode": {
    "name": "ipython",
    "version": 3
   },
   "file_extension": ".py",
   "mimetype": "text/x-python",
   "name": "python",
   "nbconvert_exporter": "python",
   "pygments_lexer": "ipython3",
   "version": "3.5.6"
  }
 },
 "nbformat": 4,
 "nbformat_minor": 2
}
