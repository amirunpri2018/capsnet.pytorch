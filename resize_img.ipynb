{
 "cells": [
  {
   "cell_type": "code",
   "execution_count": 1,
   "metadata": {},
   "outputs": [],
   "source": [
    "import os\n",
    "import pandas as pd\n",
    "from PIL import Image\n",
    "from tqdm import tqdm"
   ]
  },
  {
   "cell_type": "code",
   "execution_count": 2,
   "metadata": {},
   "outputs": [
    {
     "name": "stderr",
     "output_type": "stream",
     "text": [
      "100%|██████████| 84/84 [02:25<00:00,  1.74s/it]\n"
     ]
    }
   ],
   "source": [
    "labels = os.listdir(os.path.abspath('BanglaLekha-Isolated/Images/'))\n",
    "\n",
    "for label in tqdm(labels):\n",
    "    images = [os.path.abspath(os.path.join(dirpath, f)) \n",
    "             for dirpath, dirnames, filenames in os.walk('BanglaLekha-Isolated/Images/' + label) \n",
    "             for f in filenames]\n",
    "    os.mkdir(os.path.join('data/bangla_char', str(int(label)-1)))\n",
    "    for img_f in images:\n",
    "        img = Image.open(img_f)\n",
    "        img.resize((128, 128), Image.BILINEAR)\n",
    "        img.save(os.path.join('data/bangla_char', str(int(label)-1), os.path.basename(img_f)))"
   ]
  },
  {
   "cell_type": "code",
   "execution_count": null,
   "metadata": {},
   "outputs": [],
   "source": []
  }
 ],
 "metadata": {
  "kernelspec": {
   "display_name": "aiEnv",
   "language": "python",
   "name": "aienv"
  },
  "language_info": {
   "codemirror_mode": {
    "name": "ipython",
    "version": 3
   },
   "file_extension": ".py",
   "mimetype": "text/x-python",
   "name": "python",
   "nbconvert_exporter": "python",
   "pygments_lexer": "ipython3",
   "version": "3.5.6"
  }
 },
 "nbformat": 4,
 "nbformat_minor": 2
}
